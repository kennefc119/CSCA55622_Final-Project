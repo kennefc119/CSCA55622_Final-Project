{
 "cells": [
  {
   "cell_type": "markdown",
   "id": "093457c9",
   "metadata": {},
   "source": [
    "# Project Topic\n",
    "### 1.1 - Background\n",
    "### 1.2 - Problem\n",
    "### 1.3 - Project Goal"
   ]
  },
  {
   "cell_type": "markdown",
   "id": "42cd8cd6",
   "metadata": {},
   "source": [
    "# Data\n",
    "### 2.1 - Citation and Description\n",
    "### 2.2 - Data details"
   ]
  },
  {
   "cell_type": "markdown",
   "id": "bb849101",
   "metadata": {},
   "source": [
    "# Data Cleaning\n",
    "\n",
    "### 3.1 - Reason for cleaning\n",
    "### 3.2 - Methods for cleaning\n",
    "### 3.3 - Cleaninig Summary\n",
    "### 3.4 - Conclusion & Discussion\n",
    "### 3.5 - Visualisation"
   ]
  },
  {
   "cell_type": "markdown",
   "id": "f49512b2",
   "metadata": {},
   "source": [
    "# Exploratory Data Analysis (EDA)\n",
    "\n",
    "### 4.1 - Reason for EDA\n",
    "### 4.2 - EDA Methodology\n",
    "### 4.3 - Analysis & Visualisation\n",
    "### 4.4 - Conclusion & Discussion"
   ]
  },
  {
   "cell_type": "markdown",
   "id": "f2099ce7",
   "metadata": {},
   "source": [
    "# Modelling\n",
    "\n",
    "### 5.1 - Choice of Model\n",
    "### 5.2 - Feature engineering\n",
    "### 5.3 - Multi-model Methodology"
   ]
  },
  {
   "cell_type": "markdown",
   "id": "b94c3bdf",
   "metadata": {},
   "source": [
    "# Results & Analysis\n",
    "\n",
    "### 6.1 - Summary\n",
    "### 6.2 - Visualisation\n",
    "### 6.3 - Evaluation Metrics\n",
    "### 6.4 - Performance Improvement\n",
    "### 6.5 - Results Comparison Across Multiple Models"
   ]
  },
  {
   "cell_type": "markdown",
   "id": "f2594443",
   "metadata": {},
   "source": [
    "# Discussion & Conclusion\n",
    "\n",
    "### 7.1 - Lessons learnt\n",
    "### 7.2 - Potential Reasons for low accuracy\n",
    "### 7.3 - Improvements"
   ]
  },
  {
   "cell_type": "markdown",
   "id": "87cd97ef",
   "metadata": {},
   "source": []
  }
 ],
 "metadata": {
  "language_info": {
   "name": "python"
  }
 },
 "nbformat": 4,
 "nbformat_minor": 5
}
